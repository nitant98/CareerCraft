{
 "cells": [
  {
   "cell_type": "code",
   "execution_count": 1,
   "id": "7b58ff2e",
   "metadata": {},
   "outputs": [
    {
     "name": "stdout",
     "output_type": "stream",
     "text": [
      "Collecting diagrams\n",
      "  Downloading diagrams-0.23.4-py3-none-any.whl (24.6 MB)\n",
      "\u001b[2K     \u001b[90m━━━━━━━━━━━━━━━━━━━━━━━━━━━━━━━━━━━━━━━━\u001b[0m \u001b[32m24.6/24.6 MB\u001b[0m \u001b[31m13.4 MB/s\u001b[0m eta \u001b[36m0:00:00\u001b[0m00:01\u001b[0m00:01\u001b[0m\n",
      "\u001b[?25hCollecting typed-ast<2.0.0,>=1.5.4\n",
      "  Downloading typed_ast-1.5.5-cp39-cp39-macosx_10_9_x86_64.whl (223 kB)\n",
      "\u001b[2K     \u001b[90m━━━━━━━━━━━━━━━━━━━━━━━━━━━━━━━━━━━━━━\u001b[0m \u001b[32m223.3/223.3 kB\u001b[0m \u001b[31m12.1 MB/s\u001b[0m eta \u001b[36m0:00:00\u001b[0m\n",
      "\u001b[?25hRequirement already satisfied: graphviz<0.21.0,>=0.13.2 in /Users/anirudhajoshi/opt/anaconda3/lib/python3.9/site-packages (from diagrams) (0.20.1)\n",
      "Requirement already satisfied: jinja2<4.0,>=2.10 in /Users/anirudhajoshi/opt/anaconda3/lib/python3.9/site-packages (from diagrams) (2.11.3)\n",
      "Requirement already satisfied: MarkupSafe>=0.23 in /Users/anirudhajoshi/opt/anaconda3/lib/python3.9/site-packages (from jinja2<4.0,>=2.10->diagrams) (2.0.1)\n",
      "Installing collected packages: typed-ast, diagrams\n",
      "  Attempting uninstall: typed-ast\n",
      "    Found existing installation: typed-ast 1.4.3\n",
      "    Uninstalling typed-ast-1.4.3:\n",
      "      Successfully uninstalled typed-ast-1.4.3\n",
      "Successfully installed diagrams-0.23.4 typed-ast-1.5.5\n"
     ]
    }
   ],
   "source": [
    "!pip install diagrams"
   ]
  },
  {
   "cell_type": "code",
   "execution_count": 19,
   "id": "54167632",
   "metadata": {},
   "outputs": [
    {
     "data": {
      "text/plain": [
       "'/mnt/data/Simplified_Enhanced_CareerCraft_Architecture_Diagram.png'"
      ]
     },
     "execution_count": 19,
     "metadata": {},
     "output_type": "execute_result"
    }
   ],
   "source": [
    "from diagrams import Diagram, Cluster, Edge\n",
    "from diagrams.onprem.client import User\n",
    "from diagrams.custom import Custom\n",
    "from diagrams.onprem.database import PostgreSQL\n",
    "from diagrams.programming.framework import FastAPI\n",
    "from diagrams.aws.storage import S3\n",
    "from diagrams.aws.network import CloudFront\n",
    "from diagrams.saas.identity import Auth0\n",
    "# from diagrams.saas.storage import GoogleDrive\n",
    "# from diagrams.onprem.analytics import Grafana, Prometheus\n",
    "\n",
    "graph_attr = {\n",
    "    \"fontsize\": \"20\",\n",
    "    \"bgcolor\": \"white\",\n",
    "    \"nodesep\": \"0.5\",\n",
    "#     \"pad\": \"2\",\n",
    "    \"ranksep\": \"5\",\n",
    "    \"rankdir\": \"LR\"\n",
    "}\n",
    "\n",
    "with Diagram(\"Simplified Enhanced CareerCraft Architecture\", show=False, direction=\"LR\", graph_attr=graph_attr):\n",
    "    user = User(\"End User\")\n",
    "\n",
    "    frontend = Custom(\"Streamlit UI\", \"./streamlit_logo.png\")\n",
    "    backend = FastAPI(\"FastAPI Server\")\n",
    "    ai_ml = Custom(\"Open AI GPT Models\", \"./openai_logo.png\")\n",
    "    database = PostgreSQL(\"PostgreSQL DB\")\n",
    "    cloud_storage = S3(\"AWS S3 Storage\")\n",
    "    cloud_cdn = CloudFront(\"AWS CloudFront CDN\")\n",
    "    containerization = ECS(\"Docker Containers\")\n",
    "    workflow = Custom(\"Airflow\", \"./airflow_logo.png\")\n",
    "    security = Auth0(\"JWT Authentication\")\n",
    "\n",
    "    coursera = Custom(\"Coursera API\", \"./coursera_logo.png\")\n",
    "    udemy = Custom(\"Udemy API\", \"./udemy_logo.png\")\n",
    "    medium = Custom(\"Medium API\", \"./medium_logo.png\")\n",
    "    linkedin = Custom(\"LinkedIn API\", \"./linkedin_logo.png\")\n",
    "    indeed = Custom(\"Indeed API\", \"./indeed_logo.png\")\n",
    "\n",
    "    # Connections with descriptions\n",
    "    user >> Edge(label=\"Interacts via\") >> frontend\n",
    "    frontend >> Edge(label=\"Sends requests to\") >> backend\n",
    "    backend >> Edge(label=\"Processes & stores data in\") >> database\n",
    "    backend >> Edge(label=\"Utilizes for AI & ML\") >> ai_ml\n",
    "    backend >> Edge(label=\"Stores media in\") >> cloud_storage\n",
    "    cloud_storage >> Edge(label=\"Distributes via\") >> cloud_cdn\n",
    "    backend >> Edge(label=\"Containerized with\") >> containerization\n",
    "    backend >> Edge(label=\"Automates workflows via\") >> workflow\n",
    "    backend >> Edge(label=\"Secures via\") >> security\n",
    "    backend >> Edge(label=\"Integrates with External APIs\") >> [coursera, udemy, medium, linkedin, indeed]\n",
    "\n",
    "# Save diagram\n",
    "diag_path = \"/mnt/data/Simplified_Enhanced_CareerCraft_Architecture_Diagram.png\"\n",
    "# diag.save(diag_path)\n",
    "diag_path\n"
   ]
  },
  {
   "cell_type": "code",
   "execution_count": null,
   "id": "88267e18",
   "metadata": {},
   "outputs": [],
   "source": []
  }
 ],
 "metadata": {
  "kernelspec": {
   "display_name": "Python 3 (ipykernel)",
   "language": "python",
   "name": "python3"
  },
  "language_info": {
   "codemirror_mode": {
    "name": "ipython",
    "version": 3
   },
   "file_extension": ".py",
   "mimetype": "text/x-python",
   "name": "python",
   "nbconvert_exporter": "python",
   "pygments_lexer": "ipython3",
   "version": "3.9.13"
  }
 },
 "nbformat": 4,
 "nbformat_minor": 5
}
